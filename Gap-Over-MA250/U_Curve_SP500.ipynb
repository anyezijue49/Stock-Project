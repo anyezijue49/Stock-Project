{
 "cells": [
  {
   "cell_type": "code",
   "execution_count": null,
   "metadata": {},
   "outputs": [],
   "source": [
    "import numpy as np\n",
    "import pandas as pd"
   ]
  },
  {
   "cell_type": "code",
   "execution_count": null,
   "metadata": {},
   "outputs": [],
   "source": [
    "# !pip install yfinance --upgrade --no-cache-dir\n",
    "import yfinance as yf"
   ]
  },
  {
   "cell_type": "code",
   "execution_count": null,
   "metadata": {},
   "outputs": [],
   "source": [
    "result = pd.DataFrame({\n",
    "    \"stock\": [],\n",
    "    \"gap_date\": [],\n",
    "    \"revert_time\": [],\n",
    "    \"u_curve_effect\": [],\n",
    "    \"u_curve_profit\": [],\n",
    "    \"lowest_day\": []\n",
    "})\n",
    "result[\"stock\"] = result[\"stock\"].astype(object)\n",
    "result[\"gap_date\"] = pd.to_datetime(result[\"gap_date\"])\n",
    "result[\"revert_time\"] = result[\"revert_time\"].astype(int)\n",
    "result[\"u_curve_effect\"] = result[\"u_curve_effect\"].astype(bool)\n",
    "\n",
    "for stock in stock_list[\"Symbol\"]:\n",
    "    data = yf.download(stock, start=\"2000-01-01\", end=\"2019-07-21\")\n",
    "    \n",
    "    # Calculate adjusted ratio to adjust open/high/low price\n",
    "    data[\"adjusted_ratio\"] = data[\"Adj Close\"] / data[\"Close\"]\n",
    "    data[\"Adj Open\"] = data[\"adjusted_ratio\"] * data[\"Open\"]\n",
    "    data[\"Adj High\"] = data[\"adjusted_ratio\"] * data[\"High\"]\n",
    "    data[\"Adj Low\"] = data[\"adjusted_ratio\"] * data[\"Low\"]\n",
    "    \n",
    "    # get 250 moving average\n",
    "    data[\"MA250\"] = data[\"Adj Close\"].rolling(window = 250).mean()\n",
    "                                                     \n",
    "    # get daily adjusted average price: (open + close) / 2\n",
    "    data[\"Adj Average\"] = (data[\"Adj Open\"] + data[\"Adj Close\"]) * 0.5\n",
    "                                                     \n",
    "    # pick up trading days which satisfied: \n",
    "    # 1. have a gap\n",
    "    # 2. closed price decreased more than 10%\n",
    "    # 3. gap across 250 moving avergae\n",
    "    gap_days = []\n",
    "    for row in range(data.shape[0]):\n",
    "        if np.isnan(data['MA250'].iloc[row]):\n",
    "            continue\n",
    "        curr_ma250 = data[\"MA250\"].iloc[row]\n",
    "        prev_close = data[\"Adj Close\"].iloc[row - 1]\n",
    "        curr_open = data[\"Adj Open\"].iloc[row]\n",
    "        curr_close = data[\"Adj Close\"].iloc[row]\n",
    "\n",
    "        gap = prev_close - curr_open\n",
    "        daily_change = curr_close / prev_close - 1\n",
    "        if prev_close > curr_ma250 and curr_ma250 > curr_open and curr_ma250 > curr_close:\n",
    "            across_250 = True\n",
    "        else:\n",
    "            across_250 = False\n",
    "        # print(gap, daily_change, across_250)\n",
    "\n",
    "        if gap > 0 and daily_change <= -0.1 and across_250 == True:\n",
    "            gap_days.append(row)\n",
    "    \n",
    "    gap_happened = []\n",
    "    revert_time = []\n",
    "    u_curve_exist = []\n",
    "    lowest_days = []\n",
    "    u_curve_profit = []\n",
    "    # highest_days = []\n",
    "    # j_curve_profit = []\n",
    "    \n",
    "    for i in gap_days:\n",
    "        break_sign = False\n",
    "        first_day = i\n",
    "        days = 0\n",
    "\n",
    "        curr_close = data[\"Adj Close\"].iloc[i]\n",
    "\n",
    "        initial_open = data[\"Adj Open\"].iloc[first_day]\n",
    "        initial_close = data[\"Adj Close\"].iloc[first_day]\n",
    "\n",
    "        while curr_close <= max(initial_open, initial_close):\n",
    "            days += 1\n",
    "            i += 1\n",
    "            if i >= data.shape[0]:\n",
    "                break_sign = True\n",
    "                break\n",
    "            # curr_open = data[\"Adj Open\"].iloc[i]\n",
    "            curr_close = data[\"Adj Close\"].iloc[i]\n",
    "\n",
    "        if break_sign == False:\n",
    "            gap_happened.append(first_day)\n",
    "            revert_time.append(days)\n",
    "\n",
    "            if days <= 30:\n",
    "                u_curve_exist.append(True)\n",
    "                lowest_price = min(data[\"Adj Average\"].iloc[first_day:(first_day + days + 1)]) \n",
    "                # suppose enter into the stock on the average price of the \"lowest price day\"\n",
    "                u_profit = (curr_close - lowest_price) / lowest_price \n",
    "                # calculate the profit from lowest price day to revert day\n",
    "\n",
    "                which_min = data[\"Adj Average\"].iloc[first_day:(first_day + days + 1)] == lowest_price\n",
    "                min_day = list(which_min).index(True) # which day is the lowest day\n",
    "                lowest_days.append(min_day)\n",
    "\n",
    "                u_curve_profit.append(u_profit)\n",
    "            else:\n",
    "                u_curve_exist.append(False)\n",
    "                lowest_days.append(None)\n",
    "                u_curve_profit.append(None)\n",
    "\n",
    "    counts = len(gap_happened)\n",
    "    temp = pd.DataFrame({\n",
    "        \"stock\": [stock] * counts,\n",
    "        \"gap_date\": gap_happened,\n",
    "        \"revert_time\": revert_time,\n",
    "        \"u_curve_effect\": u_curve_exist,\n",
    "        \"u_curve_profit\": u_curve_profit,\n",
    "        \"lowest_day\": lowest_days\n",
    "    })\n",
    "    temp[\"stock\"] = temp[\"stock\"].astype(object)\n",
    "    temp[\"gap_date\"] = pd.to_datetime(result[\"gap_date\"])\n",
    "    temp[\"revert_time\"] = temp[\"revert_time\"].astype(int)\n",
    "    temp[\"u_curve_effect\"] = temp[\"u_curve_effect\"].astype(bool)\n",
    "    temp[\"u_curve_profit\"] = temp[\"u_curve_profit\"].astype(float)\n",
    "    temp[\"lowest_day\"] = temp[\"lowest_day\"].astype(float)\n",
    "    \n",
    "    result = result.append(temp, ignore_index=True)"
   ]
  },
  {
   "cell_type": "code",
   "execution_count": null,
   "metadata": {},
   "outputs": [],
   "source": [
    "result.head(20)"
   ]
  },
  {
   "cell_type": "code",
   "execution_count": null,
   "metadata": {},
   "outputs": [],
   "source": [
    "len(result[\"stock\"].unique())"
   ]
  },
  {
   "cell_type": "code",
   "execution_count": null,
   "metadata": {},
   "outputs": [],
   "source": [
    "result[\"u_curve_effect\"].sum() / result.shape[0]"
   ]
  },
  {
   "cell_type": "code",
   "execution_count": null,
   "metadata": {},
   "outputs": [],
   "source": [
    "result[result.u_curve_effect == True].groupby([\"lowest_day\"]).agg({\"u_curve_profit\": [\"count\",\"mean\"]})"
   ]
  }
 ],
 "metadata": {
  "kernelspec": {
   "display_name": "Python 3",
   "language": "python",
   "name": "python3"
  },
  "language_info": {
   "codemirror_mode": {
    "name": "ipython",
    "version": 3
   },
   "file_extension": ".py",
   "mimetype": "text/x-python",
   "name": "python",
   "nbconvert_exporter": "python",
   "pygments_lexer": "ipython3",
   "version": "3.7.3"
  }
 },
 "nbformat": 4,
 "nbformat_minor": 2
}
